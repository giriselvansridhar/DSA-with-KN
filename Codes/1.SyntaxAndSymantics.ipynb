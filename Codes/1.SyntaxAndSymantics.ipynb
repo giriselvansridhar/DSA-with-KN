{
 "cells": [
  {
   "cell_type": "markdown",
   "id": "3305e766",
   "metadata": {},
   "source": [
    "1. Single line comments and multiline comments\n",
    "2. Syntax and Semantics\n",
    "3. Basic Syntax rules in python\n",
    "4. Understanding Semantics\n",
    "5. Commen Errors and how to avoid them\n",
    "6. Practical Code Examples"
   ]
  },
  {
   "cell_type": "markdown",
   "id": "c680be3e",
   "metadata": {},
   "source": [
    "1. Syntax:  The combination of the symbols used in the program to correctly structure a prohram.\n",
    "2. Semantics: The meaning the programs gives.\n",
    " "
   ]
  },
  {
   "cell_type": "code",
   "execution_count": 1,
   "id": "6101fa39",
   "metadata": {},
   "outputs": [
    {
     "name": "stdout",
     "output_type": "stream",
     "text": [
      "Krish\n",
      "Naik\n"
     ]
    }
   ],
   "source": [
    "## Basic Syntax Rules in Python\n",
    "## Case Sensitivity: Python is case-sensitive, meaning that variable names are distinct based on their case.\n",
    "'''\n",
    "This is the multiline comment\n",
    "'''\n",
    "\n",
    "\n",
    "\n",
    "name=\"Krish\"\n",
    "Name=\"Naik\"\n",
    "print(name)  # Output: Krish\n",
    "print(Name)  # Output: Naik\n",
    "\n",
    "# Both this varaible are diffrent\n",
    "\n"
   ]
  },
  {
   "cell_type": "code",
   "execution_count": 6,
   "id": "6be8df68",
   "metadata": {},
   "outputs": [
    {
     "name": "stdout",
     "output_type": "stream",
     "text": [
      "You are an adult\n"
     ]
    }
   ],
   "source": [
    "## Indentation\n",
    "## Python uses the intentation to define the block of code. 4 space. 1 Tab space= 4 spaces\n",
    "age=32\n",
    "if age>18:\n",
    "    print(\"You are an adult\")  # This line is indented with 4 spaces"
   ]
  },
  {
   "cell_type": "code",
   "execution_count": 7,
   "id": "86f8f5d1",
   "metadata": {},
   "outputs": [
    {
     "name": "stdout",
     "output_type": "stream",
     "text": [
      "Hello, World!\n"
     ]
    }
   ],
   "source": [
    "## This is a comment\n",
    "print(\"Hello, World!\")  # This line is not indented"
   ]
  },
  {
   "cell_type": "code",
   "execution_count": 8,
   "id": "add900f5",
   "metadata": {},
   "outputs": [
    {
     "name": "stdout",
     "output_type": "stream",
     "text": [
      "58\n"
     ]
    }
   ],
   "source": [
    "## Line Continuation\n",
    "total=1+2+3+4+5+\\\n",
    "6+7+9+10+11\n",
    "print(total)  # Output: 58"
   ]
  },
  {
   "cell_type": "code",
   "execution_count": 9,
   "id": "e4e7b631",
   "metadata": {},
   "outputs": [
    {
     "name": "stdout",
     "output_type": "stream",
     "text": [
      "5 10 15\n"
     ]
    }
   ],
   "source": [
    "## Multiple Statements on a Single Line\n",
    "x=5;y=10;z=15\n",
    "print(x,y,z)\n"
   ]
  },
  {
   "cell_type": "code",
   "execution_count": 10,
   "id": "710277c4",
   "metadata": {},
   "outputs": [],
   "source": [
    "## Understading Semantics \n",
    "## Variable Assignment\n",
    "age=32 ##Age is an integer\n",
    "name=\"Krish\"  ##Name is a string\n",
    "\n"
   ]
  },
  {
   "cell_type": "code",
   "execution_count": 16,
   "id": "27953895",
   "metadata": {},
   "outputs": [
    {
     "name": "stdout",
     "output_type": "stream",
     "text": [
      "<class 'str'>\n",
      "<class 'str'>\n",
      "<class 'str'>\n"
     ]
    }
   ],
   "source": [
    "## Type Inference\n",
    "print(type(age))  # Output: <class 'int'>\n",
    "print(type(name))  # Output: <class 'str'>\n",
    "age=\"32\"\n",
    "print(type(age))  # Output: <class 'str'>, now age is a string\n",
    "## Dynamic Typing: During the execution of the program, the type of a variable can change.\n"
   ]
  },
  {
   "cell_type": "code",
   "execution_count": 18,
   "id": "a8297ffb",
   "metadata": {},
   "outputs": [
    {
     "ename": "IndentationError",
     "evalue": "expected an indented block after 'if' statement on line 2 (2296680456.py, line 3)",
     "output_type": "error",
     "traceback": [
      "  \u001b[36mCell\u001b[39m\u001b[36m \u001b[39m\u001b[32mIn[18]\u001b[39m\u001b[32m, line 3\u001b[39m\n\u001b[31m    \u001b[39m\u001b[31mprint(age)\u001b[39m\n    ^\n\u001b[31mIndentationError\u001b[39m\u001b[31m:\u001b[39m expected an indented block after 'if' statement on line 2\n"
     ]
    }
   ],
   "source": [
    "age=32\n",
    "if age>18:\n",
    "print(age)\n",
    "#IntentationError"
   ]
  },
  {
   "cell_type": "code",
   "execution_count": 20,
   "id": "9594a676",
   "metadata": {},
   "outputs": [
    {
     "ename": "NameError",
     "evalue": "name 'b' is not defined",
     "output_type": "error",
     "traceback": [
      "\u001b[31m---------------------------------------------------------------------------\u001b[39m",
      "\u001b[31mNameError\u001b[39m                                 Traceback (most recent call last)",
      "\u001b[36mCell\u001b[39m\u001b[36m \u001b[39m\u001b[32mIn[20]\u001b[39m\u001b[32m, line 1\u001b[39m\n\u001b[32m----> \u001b[39m\u001b[32m1\u001b[39m a=\u001b[43mb\u001b[49m\n\u001b[32m      2\u001b[39m \u001b[38;5;66;03m## Name Error: If you try to use a variable that has not been defined, Python will raise a NameError.\u001b[39;00m\n",
      "\u001b[31mNameError\u001b[39m: name 'b' is not defined"
     ]
    }
   ],
   "source": [
    "a=b\n",
    "## Name Error: If you try to use a variable that has not been defined, Python will raise a NameError."
   ]
  },
  {
   "cell_type": "code",
   "execution_count": 23,
   "id": "95734a7e",
   "metadata": {},
   "outputs": [
    {
     "name": "stdout",
     "output_type": "stream",
     "text": [
      "This is indented\n",
      "This will print\n",
      "Outside the if block\n"
     ]
    }
   ],
   "source": [
    "## Code Example of Intentation: Booleean in default is True\n",
    "if True:\n",
    "    print(\"This is indented\")  # This line is indented with 4 spaces\n",
    "    if False:\n",
    "        print(\"This is also indented\")\n",
    "    print(\"This will print\")\n",
    "print(\"Outside the if block\")  # This line is not indented\n",
    "\n",
    "        "
   ]
  }
 ],
 "metadata": {
  "kernelspec": {
   "display_name": "Python 3",
   "language": "python",
   "name": "python3"
  },
  "language_info": {
   "codemirror_mode": {
    "name": "ipython",
    "version": 3
   },
   "file_extension": ".py",
   "mimetype": "text/x-python",
   "name": "python",
   "nbconvert_exporter": "python",
   "pygments_lexer": "ipython3",
   "version": "3.12.0"
  }
 },
 "nbformat": 4,
 "nbformat_minor": 5
}
